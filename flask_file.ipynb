{
 "cells": [
  {
   "cell_type": "code",
   "execution_count": 2,
   "id": "7240f971",
   "metadata": {},
   "outputs": [
    {
     "name": "stdout",
     "output_type": "stream",
     "text": [
      " * Serving Flask app '__main__'\n",
      " * Debug mode: off\n"
     ]
    },
    {
     "name": "stderr",
     "output_type": "stream",
     "text": [
      "c:\\Users\\Fjwu\\AppData\\Local\\Programs\\Python\\Python310\\lib\\site-packages\\sklearn\\base.py:318: UserWarning: Trying to unpickle estimator MultinomialNB from version 1.0.2 when using version 1.2.2. This might lead to breaking code or invalid results. Use at your own risk. For more info please refer to:\n",
      "https://scikit-learn.org/stable/model_persistence.html#security-maintainability-limitations\n",
      "  warnings.warn(\n",
      "c:\\Users\\Fjwu\\AppData\\Local\\Programs\\Python\\Python310\\lib\\site-packages\\sklearn\\base.py:318: UserWarning: Trying to unpickle estimator CountVectorizer from version 1.0.2 when using version 1.2.2. This might lead to breaking code or invalid results. Use at your own risk. For more info please refer to:\n",
      "https://scikit-learn.org/stable/model_persistence.html#security-maintainability-limitations\n",
      "  warnings.warn(\n",
      "WARNING: This is a development server. Do not use it in a production deployment. Use a production WSGI server instead.\n",
      " * Running on http://127.0.0.1:5000\n",
      "Press CTRL+C to quit\n"
     ]
    }
   ],
   "source": [
    "from flask import Flask,render_template,url_for,request\n",
    "import pickle\n",
    "import joblib\n",
    "\n",
    "\n",
    "filename = 'model.pkl'\n",
    "clf = pickle.load(open(filename, 'rb'))\n",
    "cv=pickle.load(open('transform.pkl','rb'))\n",
    "app = Flask(__name__)\n",
    "\n",
    "@app.route('/')\n",
    "def home():\n",
    "\treturn render_template('home.html')\n",
    "\n",
    "@app.route('/predict',methods=['POST'])\n",
    "def predict():\n",
    "\tif request.method == 'POST':\n",
    "\t\tmessage = request.form['message']\n",
    "\t\tdata = [message]\n",
    "\t\tvect = cv.transform(data).toarray()\n",
    "\t\tmy_prediction = clf.predict(vect)\n",
    "\t\tprint(my_prediction)\n",
    "\treturn render_template('result.html',prediction = my_prediction)\n",
    "\n",
    "if __name__ == '__main__':\n",
    "\tapp.run()"
   ]
  },
  {
   "cell_type": "code",
   "execution_count": 2,
   "id": "8d7e9215",
   "metadata": {},
   "outputs": [
    {
     "name": "stdout",
     "output_type": "stream",
     "text": [
      "Note: you may need to restart the kernel to use updated packages.\n"
     ]
    },
    {
     "name": "stderr",
     "output_type": "stream",
     "text": [
      "ERROR: unknown command \"insatll\" - maybe you meant \"install\"\n",
      "\n"
     ]
    }
   ],
   "source": [
    "pip install flask from flk"
   ]
  },
  {
   "cell_type": "code",
   "execution_count": 1,
   "id": "aa1ffa19",
   "metadata": {},
   "outputs": [
    {
     "name": "stdout",
     "output_type": "stream",
     "text": [
      "Collecting flask\n",
      "  Downloading Flask-2.3.2-py3-none-any.whl (96 kB)\n",
      "     ---------------------------------------- 0.0/96.9 kB ? eta -:--:--\n",
      "     ---- ----------------------------------- 10.2/96.9 kB ? eta -:--:--\n",
      "     ---- ----------------------------------- 10.2/96.9 kB ? eta -:--:--\n",
      "     ------------ ------------------------- 30.7/96.9 kB 217.9 kB/s eta 0:00:01\n",
      "     ---------------- --------------------- 41.0/96.9 kB 217.9 kB/s eta 0:00:01\n",
      "     ------------------------------------ - 92.2/96.9 kB 435.7 kB/s eta 0:00:01\n",
      "     -------------------------------------- 96.9/96.9 kB 395.6 kB/s eta 0:00:00\n",
      "Collecting itsdangerous>=2.1.2\n",
      "  Downloading itsdangerous-2.1.2-py3-none-any.whl (15 kB)\n",
      "Collecting Werkzeug>=2.3.3\n",
      "  Downloading Werkzeug-2.3.6-py3-none-any.whl (242 kB)\n",
      "     ---------------------------------------- 0.0/242.5 kB ? eta -:--:--\n",
      "     --------------- ------------------------ 92.2/242.5 kB ? eta -:--:--\n",
      "     --------------------------- ---------- 174.1/242.5 kB 2.1 MB/s eta 0:00:01\n",
      "     -------------------------------------- 242.5/242.5 kB 1.9 MB/s eta 0:00:00\n",
      "Collecting Jinja2>=3.1.2\n",
      "  Downloading Jinja2-3.1.2-py3-none-any.whl (133 kB)\n",
      "     ---------------------------------------- 0.0/133.1 kB ? eta -:--:--\n",
      "     --------------------- ----------------- 71.7/133.1 kB 2.0 MB/s eta 0:00:01\n",
      "     ----------------------------------- -- 122.9/133.1 kB 1.8 MB/s eta 0:00:01\n",
      "     -------------------------------------- 133.1/133.1 kB 1.1 MB/s eta 0:00:00\n",
      "Collecting blinker>=1.6.2\n",
      "  Downloading blinker-1.6.2-py3-none-any.whl (13 kB)\n",
      "Collecting click>=8.1.3\n",
      "  Downloading click-8.1.3-py3-none-any.whl (96 kB)\n",
      "     ---------------------------------------- 0.0/96.6 kB ? eta -:--:--\n",
      "     -------------------------------------- - 92.2/96.6 kB 5.5 MB/s eta 0:00:01\n",
      "     ---------------------------------------- 96.6/96.6 kB 2.8 MB/s eta 0:00:00\n",
      "Requirement already satisfied: colorama in c:\\users\\fjwu\\appdata\\roaming\\python\\python310\\site-packages (from click>=8.1.3->flask) (0.4.6)\n",
      "Collecting MarkupSafe>=2.0\n",
      "  Downloading MarkupSafe-2.1.3-cp310-cp310-win_amd64.whl (17 kB)\n",
      "Installing collected packages: MarkupSafe, itsdangerous, click, blinker, Werkzeug, Jinja2, flask\n",
      "Successfully installed Jinja2-3.1.2 MarkupSafe-2.1.3 Werkzeug-2.3.6 blinker-1.6.2 click-8.1.3 flask-2.3.2 itsdangerous-2.1.2\n",
      "Note: you may need to restart the kernel to use updated packages.\n"
     ]
    },
    {
     "name": "stderr",
     "output_type": "stream",
     "text": [
      "  WARNING: The script flask.exe is installed in 'c:\\Users\\Fjwu\\AppData\\Local\\Programs\\Python\\Python310\\Scripts' which is not on PATH.\n",
      "  Consider adding this directory to PATH or, if you prefer to suppress this warning, use --no-warn-script-location.\n",
      "\n",
      "[notice] A new release of pip is available: 23.0.1 -> 23.1.2\n",
      "[notice] To update, run: python.exe -m pip install --upgrade pip\n"
     ]
    }
   ],
   "source": [
    "pip install flask\n"
   ]
  }
 ],
 "metadata": {
  "kernelspec": {
   "display_name": "Python 3.9.13 64-bit",
   "language": "python",
   "name": "python3"
  },
  "language_info": {
   "codemirror_mode": {
    "name": "ipython",
    "version": 3
   },
   "file_extension": ".py",
   "mimetype": "text/x-python",
   "name": "python",
   "nbconvert_exporter": "python",
   "pygments_lexer": "ipython3",
   "version": "3.10.7"
  },
  "vscode": {
   "interpreter": {
    "hash": "694267f753c2b1de52325bb04257c94ee726bccac1b42831d95db358c39fc87b"
   }
  }
 },
 "nbformat": 4,
 "nbformat_minor": 5
}
